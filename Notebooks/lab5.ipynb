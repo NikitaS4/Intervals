{
 "cells": [
  {
   "cell_type": "markdown",
   "metadata": {},
   "source": [
    "# Settings"
   ]
  },
  {
   "cell_type": "code",
   "execution_count": 1,
   "metadata": {},
   "outputs": [],
   "source": [
    "import numpy as np\n",
    "from matplotlib import pyplot as plt\n",
    "%matplotlib inline\n",
    "import os"
   ]
  },
  {
   "cell_type": "markdown",
   "metadata": {},
   "source": [
    "# Task 1\n",
    "\n",
    "$A \\cdot x = b$\n",
    "\n",
    "$A = \\left(\\begin{matrix}1 & 1 \\\\ 0 & 0.1 \\end{matrix}\\right); b = \\left(\\begin{matrix}[4.1, 3.9] \\\\ [0.1, 0.2]\\end{matrix}\\right)$"
   ]
  },
  {
   "cell_type": "markdown",
   "metadata": {},
   "source": [
    "## Create A & b"
   ]
  },
  {
   "cell_type": "code",
   "execution_count": 2,
   "metadata": {},
   "outputs": [],
   "source": [
    "a_slae = np.array([[1, 1], [0, 0.1]])\n",
    "\n",
    "inf_b = np.array([4.1, 0.1])\n",
    "sup_b = np.array([3.9, 0.2])"
   ]
  },
  {
   "cell_type": "markdown",
   "metadata": {},
   "source": [
    "## Define sti\n",
    "\n",
    "$KR^n \\rightarrow R^{n\\times n}$"
   ]
  },
  {
   "cell_type": "code",
   "execution_count": 3,
   "metadata": {},
   "outputs": [],
   "source": [
    "def sti_vector(x_inf, x_sup):\n",
    "    return np.hstack([-x_inf, x_sup])\n",
    "\n",
    "def back_sti_vector(sti_vec):\n",
    "    half = sti_vec.shape[0] // 2\n",
    "    x_inf = -sti_vec[:half]\n",
    "    x_sup = sti_vec[half:]\n",
    "    return x_inf, x_sup\n",
    "\n",
    "def sti_dot_mtx(a_mtx):\n",
    "    a_plus = np.zeros(a_mtx.shape)\n",
    "    a_minus = np.zeros(a_mtx.shape)\n",
    "    for i in range(a_mtx.shape[0]):\n",
    "        for j in range(a_mtx.shape[1]):\n",
    "            if (a_mtx[i][j] > 0):\n",
    "                a_plus[i][j] = a_mtx[i][j]\n",
    "            else:\n",
    "                a_minus[i][j] = -a_mtx[i][j]\n",
    "    return np.block([[a_plus, a_minus], [a_minus, a_plus]])"
   ]
  },
  {
   "cell_type": "markdown",
   "metadata": {},
   "source": [
    "### Test sti"
   ]
  },
  {
   "cell_type": "code",
   "execution_count": 4,
   "metadata": {},
   "outputs": [
    {
     "name": "stdout",
     "output_type": "stream",
     "text": [
      "[-1  3  2  4]\n",
      "[ 1 -3]\n",
      "[2 4]\n",
      "[[1. 2. 0. 0.]\n",
      " [0. 4. 3. 0.]\n",
      " [0. 0. 1. 2.]\n",
      " [3. 0. 0. 4.]]\n"
     ]
    }
   ],
   "source": [
    "tmp = np.array([1, -3])\n",
    "tmp_sup = np.array([2, 4])\n",
    "sti = sti_vector(tmp, tmp_sup)\n",
    "print(sti)\n",
    "tmp, tmp_sup = back_sti_vector(sti)\n",
    "print(tmp)\n",
    "print(tmp_sup)\n",
    "\n",
    "a_mtx = np.array([[1, 2], [-3, 4]])\n",
    "print(sti_dot_mtx(a_mtx))"
   ]
  },
  {
   "cell_type": "markdown",
   "metadata": {},
   "source": [
    "## Calculate $G(y)$, $y \\in R^{n \\times n}$"
   ]
  },
  {
   "cell_type": "code",
   "execution_count": 5,
   "metadata": {},
   "outputs": [],
   "source": [
    "def compute_G(C_mtx, cur_point, d_sti):\n",
    "    intervaled_inf, intervaled_sup = back_sti_vector(cur_point)\n",
    "    return sti_vector(np.dot(C_mtx, intervaled_inf), np.dot(C_mtx, intervaled_sup)) - d_sti "
   ]
  },
  {
   "cell_type": "markdown",
   "metadata": {},
   "source": [
    "## Calculate $x^{(0)} \\in R^{n \\times n}$"
   ]
  },
  {
   "cell_type": "code",
   "execution_count": 6,
   "metadata": {},
   "outputs": [],
   "source": [
    "def compute_x0(mid_C, sti_d):\n",
    "    return np.linalg.solve(mid_C, sti_d)"
   ]
  },
  {
   "cell_type": "markdown",
   "metadata": {},
   "source": [
    "## Calculate subgradient D"
   ]
  },
  {
   "cell_type": "code",
   "execution_count": 7,
   "metadata": {},
   "outputs": [],
   "source": [
    "def compute_D(D, i, j, a_ij, b_inf, b_sup):\n",
    "    n = D.shape[0] // 2;\n",
    "    \n",
    "    if a_ij > 0:\n",
    "        D[i, j] = a_ij\n",
    "        D[i + n, j + n] = a_ij\n",
    "    else:\n",
    "        D[i, j + n] = a_ij\n",
    "        D[i + n, j] = a_ij\n",
    "    return D"
   ]
  },
  {
   "cell_type": "markdown",
   "metadata": {},
   "source": [
    "# Subgradient Newton method"
   ]
  },
  {
   "cell_type": "code",
   "execution_count": 8,
   "metadata": {},
   "outputs": [],
   "source": [
    "def subdiff2(A, inf_b, sup_b):\n",
    "    # params\n",
    "    learning_rate = 1\n",
    "    accuracy = 1e-10\n",
    "    max_iter = 50\n",
    "    \n",
    "    n = A.shape[0]  # dim\n",
    "    \n",
    "    # compute x0\n",
    "    C_sti = sti_dot_mtx(A)  # for x0\n",
    "    d_sti = sti_vector(inf_b, sup_b)  # for x0\n",
    "    cur_x = compute_x0(C_sti, d_sti)  # x0: (mid C)~ x0 = sti(b) \n",
    "    #cur_x = np.zeros(d_sti.shape[0])  # x0 = 0\n",
    "    \n",
    "    prev_x = cur_x\n",
    "    started = False  # to enter the first iteration\n",
    "\n",
    "    # do until method converges\n",
    "    cur_iter = 0\n",
    "    while not started or np.linalg.norm(cur_x - prev_x) > accuracy:\n",
    "        started = True\n",
    "        cur_iter += 1\n",
    "        if (cur_iter > max_iter):\n",
    "            print(\"Too many iterations\")\n",
    "            break\n",
    "        prev_x = cur_x  # update after the previous step\n",
    "        D = np.zeros((2 * n, 2 * n))  # subgrad mtx\n",
    "        for i in range(n):\n",
    "            for j in range(n):\n",
    "                g = A[i, j]\n",
    "                h_inf = -prev_x[j]\n",
    "                h_sup = prev_x[j + n]\n",
    "                D = compute_D(D, i, j, g, h_inf, h_sup)\n",
    "        G_part = compute_G(A, prev_x, d_sti)\n",
    "        dx = np.linalg.solve(D, -G_part)\n",
    "        cur_x = prev_x + learning_rate * dx\n",
    "    print(f\"Iteration count: {cur_iter}\")\n",
    "    return back_sti_vector(cur_x)"
   ]
  },
  {
   "cell_type": "markdown",
   "metadata": {},
   "source": [
    "# Test subgrad Newton method"
   ]
  },
  {
   "cell_type": "code",
   "execution_count": 9,
   "metadata": {},
   "outputs": [
    {
     "name": "stdout",
     "output_type": "stream",
     "text": [
      "Iteration count: 1\n",
      "X_inf: [3.1 1. ]\n",
      "X_sup: [1.9 2. ]\n"
     ]
    }
   ],
   "source": [
    "x_inf, x_sup = subdiff2(a_slae, inf_b, sup_b)\n",
    "print(f\"X_inf: {x_inf}\")\n",
    "print(f\"X_sup: {x_sup}\")"
   ]
  },
  {
   "cell_type": "markdown",
   "metadata": {},
   "source": [
    "# Task 2"
   ]
  },
  {
   "cell_type": "markdown",
   "metadata": {},
   "source": [
    "## Get square matrices"
   ]
  },
  {
   "cell_type": "code",
   "execution_count": 10,
   "metadata": {},
   "outputs": [],
   "source": [
    "def get_square(mtx):\n",
    "    mtx_shape = mtx.shape\n",
    "    result_n = min(mtx_shape[0], mtx_shape[1])\n",
    "    return mtx[:result_n,:result_n]"
   ]
  },
  {
   "cell_type": "markdown",
   "metadata": {},
   "source": [
    "## Make diagonal dominant matrices\n",
    "### Method requires diagonal dominant matrices"
   ]
  },
  {
   "cell_type": "code",
   "execution_count": 11,
   "metadata": {},
   "outputs": [],
   "source": [
    "# check if matrix diagonal dominant\n",
    "def diagonal_dominant(mtx):\n",
    "    D = np.diag(np.abs(mtx)) # get diagonal\n",
    "    E = np.sum(np.abs(mtx), axis=1) - D # row sum without diagonal elements\n",
    "    return np.all(D > E)  # true if the matrix is diagonal dominant\n",
    "\n",
    "# make matrix diagonal dominant\n",
    "# (add diagonal matrix to achieve diagonal domination)\n",
    "def make_diagonal_dominant(mtx):\n",
    "    if diagonal_dominant(mtx):\n",
    "        return mtx  # don't need to change matrix\n",
    "    D = np.diag(np.abs(mtx))  # get diagonal\n",
    "    E = np.sum(np.abs(mtx), axis=1) - D  # row sum\n",
    "    eps = 0.1  # diag - sum > eps\n",
    "    for i in range(mtx.shape[0]):\n",
    "        if D[i] - E[i] <= eps:  # find bad lines\n",
    "            mtx[i,i] += E[i] - D[i] + eps  # increase diag elements\n",
    "    return mtx"
   ]
  },
  {
   "cell_type": "markdown",
   "metadata": {},
   "source": [
    "## Generate right part"
   ]
  },
  {
   "cell_type": "code",
   "execution_count": 12,
   "metadata": {},
   "outputs": [],
   "source": [
    "def generate_right_part(mtx):\n",
    "    n = mtx.shape[0]\n",
    "    x = np.random.uniform(low=1, high=5, size=n)\n",
    "    b = np.dot(mtx, x)  # get right part\n",
    "    rads = np.random.uniform(low=0.5, high=2, size=n)  # generate radiuses for b\n",
    "    b_inf = b - rads  # make b interval\n",
    "    b_sup = b + rads\n",
    "    return b_inf, b_sup"
   ]
  },
  {
   "cell_type": "markdown",
   "metadata": {},
   "source": [
    "## Create & solve task"
   ]
  },
  {
   "cell_type": "code",
   "execution_count": 13,
   "metadata": {},
   "outputs": [],
   "source": [
    "def solve_task_2(mtx):\n",
    "    mtx = make_diagonal_dominant(mtx)\n",
    "    b_inf, b_sup = generate_right_part(mtx)\n",
    "    x_inf, x_sup = subdiff2(mtx, b_inf, b_sup)\n",
    "    print(f\"X inf: {x_inf}\")\n",
    "    print(f\"X sup: {x_sup}\")\n",
    "    return x_inf, x_sup"
   ]
  },
  {
   "cell_type": "code",
   "execution_count": 14,
   "metadata": {},
   "outputs": [],
   "source": [
    "def completeSolveBoth(outdir):\n",
    "    # Read mtx from file\n",
    "    in_dir = 'input'\n",
    "    mtx_file_1 = 'matrix_n_phi_1.txt'\n",
    "    mtx_file_2 = 'matrix_n_phi_6.txt'\n",
    "\n",
    "    nphi_1 = np.loadtxt(os.path.join(in_dir, mtx_file_1))\n",
    "    nphi_6 = np.loadtxt(os.path.join(in_dir, mtx_file_2))\n",
    "    \n",
    "    # see shapes\n",
    "    print(f\"Matrix 1 shape: {nphi_1.shape}\")\n",
    "    print(f\"Matrix 2 shape: {nphi_6.shape}\")\n",
    "    \n",
    "    # get square matrixes\n",
    "    a_slae_2 = get_square(nphi_1)\n",
    "    a_slae_3 = get_square(nphi_6)\n",
    "    \n",
    "    print(\"System 1 solution\")\n",
    "    x_inf, x_sup = solve_task_2(a_slae_2)\n",
    "    # save\n",
    "    np.savetxt(os.path.join(outdir, 'x_inf_n_phi_1.txt'), x_inf)\n",
    "    np.savetxt(os.path.join(outdir, 'x_sup_n_phi_1.txt'), x_sup)\n",
    "    print(\"System 2 solution\")\n",
    "    x_inf, x_sup = solve_task_2(a_slae_3)\n",
    "    np.savetxt(os.path.join(outdir, 'x_inf_n_phi_6.txt'), x_inf)\n",
    "    np.savetxt(os.path.join(outdir, 'x_sup_n_phi_6.txt'), x_sup)"
   ]
  },
  {
   "cell_type": "code",
   "execution_count": 15,
   "metadata": {},
   "outputs": [
    {
     "name": "stdout",
     "output_type": "stream",
     "text": [
      "Matrix 1 shape: (256, 36)\n",
      "Matrix 2 shape: (256, 216)\n",
      "System 1 solution\n",
      "Iteration count: 1\n",
      "X inf: [4.08766262 1.50316998 3.05768254 2.8546778  3.05390663 3.30747949\n",
      " 3.39752593 1.45962219 2.73264037 1.97179992 2.10249039 1.27773624\n",
      " 0.99635419 1.77562454 3.68109665 3.60175836 1.11087545 3.12191157\n",
      " 2.72160374 2.80440369 2.72823141 1.79114188 2.39584973 3.34976705\n",
      " 2.16703676 2.01464511 3.68582442 3.60253633 3.4045992  2.78468164\n",
      " 3.58013559 1.60733654 0.5391543  2.8122093  3.5170281  1.37547375]\n",
      "X sup: [4.96149222 1.73252108 4.74142578 3.06435939 4.38603781 3.05116618\n",
      " 4.27376602 2.36952541 2.69628867 2.80323139 3.3293706  2.42752173\n",
      " 1.87608367 2.10758088 3.34173689 3.9458301  2.38722275 4.78625063\n",
      " 3.73355517 3.37043218 3.81334377 2.85877826 2.93469157 3.28378598\n",
      " 1.82648991 2.74396665 4.79329398 4.08702085 3.72011221 3.01121542\n",
      " 3.70861198 2.46121458 3.15265621 4.07688784 4.11222484 2.57796479]\n",
      "System 2 solution\n",
      "Iteration count: 1\n",
      "X inf: [4.02447496 0.87062884 3.2579628  2.19321517 4.4420997  1.17323444\n",
      " 1.51952681 2.08364166 2.11268008 1.03894249 2.09676934 4.49459458\n",
      " 1.10870182 1.70089698 3.23027632 0.69271572 1.87862415 3.15296061\n",
      " 4.26625809 2.45891665 2.57270607 2.65539221 1.94065597 3.68056517\n",
      " 2.48988273 3.85227713 4.09369013 2.29346157 2.06160344 3.23715183\n",
      " 3.32767497 3.65343869 2.26905869 2.47779376 1.77112964 4.13915435\n",
      " 3.34670904 0.81881118 1.37534829 0.76550145 4.01992697 1.04548826\n",
      " 0.99004412 2.06087294 1.48742847 2.69092592 2.10824872 3.17600449\n",
      " 2.08344057 3.06869745 2.53142356 0.50161336 4.39447513 3.09324071\n",
      " 3.02809138 1.60398469 4.60916915 4.09205064 3.57392527 1.52008994\n",
      " 1.41893408 3.25939153 0.9415502  4.72861194 3.62555561 3.31839034\n",
      " 2.50682927 2.15809605 3.92846532 4.30386478 3.6386003  0.99071893\n",
      " 4.39829043 1.13808291 4.64784646 1.49930822 3.58432946 1.13247142\n",
      " 1.18925327 0.92955054 4.65197431 0.05444438 2.08160093 3.92798056\n",
      " 3.38328233 1.10265117 0.43147852 1.32333737 2.18814348 4.5005438\n",
      " 3.88004021 1.46473935 4.58481132 1.64249779 3.92194665 3.52451201\n",
      " 0.90669473 1.31140051 3.79267765 3.20120979 4.93538579 4.41819973\n",
      " 1.06888756 4.41741615 1.39981073 2.25807407 4.20614249 3.83683428\n",
      " 3.18973039 4.07489194 3.1961658  2.07595911 4.08759808 3.87904144\n",
      " 2.40756463 1.2069358  1.35214935 2.99562552 1.15132435 2.10756997\n",
      " 1.26055606 4.75924443 2.10940952 2.57702889 3.54446855 1.84133716\n",
      " 2.31098911 2.88865795 4.85365868 2.43033604 0.89605579 3.52792457\n",
      " 0.99557598 1.87555224 2.3159646  3.55214913 3.43882086 1.14401628\n",
      " 0.84509692 2.63914326 1.00746198 2.82146435 3.92948841 1.16385067\n",
      " 0.88883467 4.17987307 3.53662944 4.07434423 0.46854176 0.94501291\n",
      " 3.37346336 2.67132243 2.98651842 3.94338941 3.10311821 1.68731896\n",
      " 0.9397574  1.71912426 4.38776276 2.96072228 1.65240271 1.8947056\n",
      " 4.35019794 1.70654486 3.8822527  1.60857547 4.21437854 4.06583373\n",
      " 0.85895335 0.65311547 4.51038828 4.50668901 1.28649944 0.84147917\n",
      " 3.64290636 1.98003002 3.59145733 0.253234   1.33753789 0.61271851\n",
      " 3.82075296 2.96251258 4.64753763 1.97028007 3.31376353 3.84410443\n",
      " 4.01591753 2.50903453 4.45414433 1.31075172 4.23797797 1.32029755\n",
      " 1.96364383 3.97968512 2.07606207 1.88447089 2.60288465 1.26711574\n",
      " 3.51052912 4.20481696 3.48928357 3.5585711  2.44236103 2.95842636\n",
      " 3.85666204 2.07687137 1.3108612  2.00973792 2.22917235 1.91639629\n",
      " 4.11662376 0.9401929  3.56621528 3.54365779 1.83684452 3.59673097]\n",
      "X sup: [4.72469994 2.17866995 4.47134431 2.83140977 4.62219002 1.09375633\n",
      " 2.29985971 2.50934731 2.72442203 1.47478039 3.00672949 4.51458257\n",
      " 1.17672139 1.776675   3.52491514 1.31416541 3.19476275 4.91413121\n",
      " 4.65231233 2.43097361 3.1468287  2.69085404 2.1905475  4.48536357\n",
      " 2.47696885 4.11270399 4.39625452 2.20221094 2.4611259  3.32302364\n",
      " 4.19367248 4.97400102 2.72983788 4.43608244 2.74611937 4.58304935\n",
      " 4.01441875 2.14012467 1.90742233 1.37063515 5.024314   1.42526745\n",
      " 1.62433196 2.9989471  2.26477107 3.54921892 2.29695139 3.38789181\n",
      " 3.33413049 4.46209725 4.18456922 1.6834724  4.20604444 2.90483298\n",
      " 4.02800136 1.57151936 5.21402026 4.29707211 4.40917628 2.37944948\n",
      " 1.91056403 3.92053123 1.67003036 5.17282877 3.74361133 4.08402749\n",
      " 2.60706492 1.98656391 4.43813852 4.33442433 3.81697542 1.79201788\n",
      " 4.32968315 2.0893792  4.84710584 2.18210268 4.15945289 1.45343387\n",
      " 1.11494919 1.69092798 5.25919211 1.98708274 2.67512922 4.59219372\n",
      " 3.87919964 2.23753072 1.58283898 1.12781869 2.45308742 4.61714127\n",
      " 4.74735201 1.24127084 5.01596648 2.17683369 4.61639417 3.67283105\n",
      " 2.47519897 1.49923024 4.73059374 3.05515946 5.02515657 4.4543818\n",
      " 0.94247484 4.95669272 1.385274   2.57385985 4.42594681 4.88673064\n",
      " 4.73949126 5.35815362 4.43330481 2.80488052 5.61512801 4.50422895\n",
      " 2.92512868 0.88949327 1.03556424 3.62153881 2.04412531 3.36025118\n",
      " 1.41168714 4.48331123 2.27390259 2.7481852  4.33092042 1.9966389\n",
      " 3.21087018 4.01239269 5.10009649 4.22806052 1.50406445 4.87403685\n",
      " 1.98103479 2.3411955  2.90250995 4.23521244 4.35962438 1.92972923\n",
      " 1.83105806 4.02711034 1.42671816 3.33912012 5.00973265 2.23280747\n",
      " 2.08417572 4.98089528 4.48173628 5.89604435 2.41311607 1.63566469\n",
      " 4.68569407 3.67704468 4.15894143 4.14400362 3.23452692 2.71766252\n",
      " 1.36792633 1.57692353 5.52233966 4.0327886  1.86873358 2.79191534\n",
      " 5.60705491 2.76589521 5.36446505 2.57052225 4.8847207  4.75664102\n",
      " 1.31766748 1.80606229 4.66676748 5.25149045 1.41581542 1.16881204\n",
      " 4.28763729 2.4231736  4.61966328 1.79679858 2.34375608 1.89847231\n",
      " 5.00918952 4.26929323 5.13274319 3.4134473  4.22857302 4.28386261\n",
      " 4.03374148 2.7869311  4.77796751 2.42931305 4.59297638 1.93022588\n",
      " 3.76458226 5.70474048 4.09782749 2.26613029 4.08893471 2.50398752\n",
      " 5.0439983  5.60962926 4.51960062 3.69931332 3.61991094 3.03183005\n",
      " 3.90660475 2.7199302  1.03217976 2.04323116 2.70661187 2.22725892\n",
      " 5.14671514 1.18104222 3.90419198 3.81186511 2.98863282 4.24834109]\n"
     ]
    }
   ],
   "source": [
    "completeSolveBoth('output')"
   ]
  }
 ],
 "metadata": {
  "kernelspec": {
   "display_name": "Python 3",
   "language": "python",
   "name": "python3"
  },
  "language_info": {
   "codemirror_mode": {
    "name": "ipython",
    "version": 3
   },
   "file_extension": ".py",
   "mimetype": "text/x-python",
   "name": "python",
   "nbconvert_exporter": "python",
   "pygments_lexer": "ipython3",
   "version": "3.8.3"
  }
 },
 "nbformat": 4,
 "nbformat_minor": 4
}
