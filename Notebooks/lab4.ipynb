{
 "cells": [
  {
   "cell_type": "markdown",
   "metadata": {},
   "source": [
    "# Settings"
   ]
  },
  {
   "cell_type": "code",
   "execution_count": 1,
   "metadata": {},
   "outputs": [],
   "source": [
    "import numpy as np\n",
    "from scipy.optimize import linprog as lp\n",
    "from matplotlib import pyplot as plt\n",
    "%matplotlib inline"
   ]
  },
  {
   "cell_type": "markdown",
   "metadata": {},
   "source": [
    "# System\n",
    "## $Ax = b$"
   ]
  },
  {
   "cell_type": "code",
   "execution_count": 2,
   "metadata": {},
   "outputs": [],
   "source": [
    "A = np.array([[1, 1, 2],\n",
    "             [1, 1.1, 2],\n",
    "             [0, 5, 0]])\n",
    "mid_b = np.array([1.5, 5.5, 0])\n",
    "rad_b = np.array([0.5, 0.5, 1])"
   ]
  },
  {
   "cell_type": "markdown",
   "metadata": {},
   "source": [
    "# Optimization task\n",
    "## size($A$) = $(n \\times n)$"
   ]
  },
  {
   "cell_type": "code",
   "execution_count": 3,
   "metadata": {},
   "outputs": [],
   "source": [
    "n = A.shape[0]\n",
    "c = np.hstack([np.zeros(n), np.ones(n)])\n",
    "\n",
    "neg_diag = -np.diag(rad_b)\n",
    "r = np.hstack([-mid_b, mid_b])\n",
    "A_big = np.block([[-A, neg_diag], [A, neg_diag]])"
   ]
  },
  {
   "cell_type": "markdown",
   "metadata": {},
   "source": [
    "# Solve optimization task"
   ]
  },
  {
   "cell_type": "code",
   "execution_count": 4,
   "metadata": {},
   "outputs": [],
   "source": [
    "bounds = [(None, None)] * n + [(0, None)] * n\n",
    "\n",
    "res_simplex = lp(c, A_big, r, bounds=bounds,\n",
    "                 method='simplex')\n",
    "res_ip = lp(c, A_big, r, bounds=bounds,\n",
    "            method='interior-point')"
   ]
  },
  {
   "cell_type": "markdown",
   "metadata": {},
   "source": [
    "# Get solution & weights"
   ]
  },
  {
   "cell_type": "code",
   "execution_count": 5,
   "metadata": {},
   "outputs": [
    {
     "name": "stdout",
     "output_type": "stream",
     "text": [
      "Simplex results:\n",
      "X = [0.   0.   2.75]\n",
      "omegas = [8. 0. 0.]\n",
      "Interior point results:\n",
      "X = [ 6.47958218e-01 -4.76165773e-11  1.37813235e+00]\n",
      "omegas = [3.80844585e+00 4.19155415e+00 9.34320173e-10]\n"
     ]
    }
   ],
   "source": [
    "# simplex\n",
    "\n",
    "final_x = res_simplex.x[:-n]\n",
    "final_w = res_simplex.x[n:]\n",
    "\n",
    "print(\"Simplex results:\")\n",
    "print(f\"X = {final_x}\")\n",
    "print(f\"omegas = {final_w}\")\n",
    "\n",
    "# interior point\n",
    "\n",
    "final_x = res_ip.x[:-n]\n",
    "final_w = res_ip.x[n:]\n",
    "\n",
    "print(\"Interior point results:\")\n",
    "print(f\"X = {final_x}\")\n",
    "print(f\"omegas = {final_w}\")"
   ]
  },
  {
   "cell_type": "markdown",
   "metadata": {},
   "source": [
    "# Convex combination"
   ]
  },
  {
   "cell_type": "code",
   "execution_count": 6,
   "metadata": {},
   "outputs": [
    {
     "name": "stdout",
     "output_type": "stream",
     "text": [
      "Convex combination:\n",
      "X = [ 3.23979109e-01 -2.38082887e-11  2.06406618e+00]\n",
      "omegas = [5.90422292e+00 2.09577707e+00 4.67160087e-10]\n"
     ]
    }
   ],
   "source": [
    "x_s = res_simplex.x[:-n]\n",
    "w_s = res_simplex.x[n:]\n",
    "\n",
    "x_ip = res_ip.x[:-n]\n",
    "w_ip = res_ip.x[n:]\n",
    "\n",
    "alpha = 0.5\n",
    "\n",
    "x_conv = alpha * x_s + (1 - alpha) * x_ip\n",
    "w_conv = alpha * w_s + (1 - alpha) * w_ip\n",
    "\n",
    "print(\"Convex combination:\")\n",
    "print(f\"X = {x_conv}\")\n",
    "print(f\"omegas = {w_conv}\")"
   ]
  },
  {
   "cell_type": "markdown",
   "metadata": {},
   "source": [
    "# End to end function"
   ]
  },
  {
   "cell_type": "code",
   "execution_count": 7,
   "metadata": {},
   "outputs": [],
   "source": [
    "def solve_bounded(x_bounds):\n",
    "    bounds = x_bounds + [(0, None)] * n\n",
    "\n",
    "    res_simplex = lp(c, A_big, r, bounds=bounds,\n",
    "                     method='simplex')\n",
    "    res_ip = lp(c, A_big, r, bounds=bounds,\n",
    "                method='interior-point')\n",
    "    omega_sum_s = sum(res_simplex.x[n:])\n",
    "    omega_sum_ip = sum(res_ip.x[n:])\n",
    "    omega_3 = res_simplex.x[-1]\n",
    "    \n",
    "    x_s = res_simplex.x[:-n]\n",
    "    x_ip = res_ip.x[:-n]\n",
    "    return omega_sum_s, omega_sum_ip, x_s, x_ip, omega_3"
   ]
  },
  {
   "cell_type": "markdown",
   "metadata": {},
   "source": [
    "# Different $x_2$ bounds:"
   ]
  },
  {
   "cell_type": "code",
   "execution_count": 12,
   "metadata": {},
   "outputs": [
    {
     "name": "stdout",
     "output_type": "stream",
     "text": [
      "Lower x_2 = 0.1: sum simplex = 8.48, sum ip = 8.48000000000047, x_s = [0.    0.1   2.695], x_ip = [0.64999921 0.1        1.34268231], omega 3 = 0.5\n",
      "Lower x_2 = 0.2: sum simplex = 8.96, sum ip = 8.96000000000047, x_s = [0.   0.2  2.64], x_ip = [0.62972504 0.2        1.30464674], omega 3 = 1.0\n",
      "Lower x_2 = 0.3: sum simplex = 9.44, sum ip = 9.439999986377956, x_s = [0.    0.3   2.585], x_ip = [0.61346312 0.3        1.265681  ], omega 3 = 1.5\n",
      "Lower x_2 = 0.4: sum simplex = 9.919999999999998, sum ip = 9.919999981647036, x_s = [0.   0.4  2.53], x_ip = [0.59803407 0.40000001 1.22666073], omega 3 = 2.0\n",
      "Lower x_2 = 0.5: sum simplex = 10.4, sum ip = 10.400000002521292, x_s = [0.    0.5   2.475], x_ip = [0.58267923 0.5        1.18762389], omega 3 = 2.5\n",
      "Lower x_2 = 0.6: sum simplex = 10.879999999999999, sum ip = 10.880000012932094, x_s = [0.   0.6  2.42], x_ip = [0.56576468 0.60000001 1.14824962], omega 3 = 3.0\n",
      "Lower x_2 = 0.7: sum simplex = 11.360000000000001, sum ip = 11.360000006467066, x_s = [0.    0.7   2.365], x_ip = [0.54793417 0.70000001 1.10822708], omega 3 = 3.5\n",
      "Lower x_2 = 0.8: sum simplex = 11.84, sum ip = 11.839999947981031, x_s = [0.   0.8  2.31], x_ip = [0.5286594  0.80000001 1.06539145], omega 3 = 4.0\n",
      "Lower x_2 = 0.9: sum simplex = 12.32, sum ip = 12.319999999989879, x_s = [0.    0.9   2.255], x_ip = [0.50849957 0.9        1.02246732], omega 3 = 4.5\n",
      "Lower x_2 = 1: sum simplex = 12.8, sum ip = 12.799999999971135, x_s = [0.  1.  2.2], x_ip = [0.48805418 1.         0.98001621], omega 3 = 5.0\n"
     ]
    }
   ],
   "source": [
    "x_2 = [0.1, 0.2, 0.3, 0.4, 0.5, 0.6, 0.7, 0.8, 0.9, 1]\n",
    "x_1s = []\n",
    "x_3s = []\n",
    "x_1i = []\n",
    "x_3i = []\n",
    "w_3 = []\n",
    "\n",
    "for lower in x_2:\n",
    "    bounds = [(None, None), (lower, None), (None, None)]\n",
    "    omega_sum_s, omega_sum_ip, x_s, x_ip, omega_3 = solve_bounded(bounds)\n",
    "    print(f\"Lower x_2 = {lower}: sum simplex = {omega_sum_s}, sum ip = {omega_sum_ip}, x_s = {x_s}, x_ip = {x_ip}, omega 3 = {omega_3}\")\n",
    "    x_1s.append(x_s[0])\n",
    "    x_3s.append(x_s[-1])\n",
    "    x_1i.append(x_ip[0])\n",
    "    x_3i.append(x_ip[-1])\n",
    "    #w_3.append(omega_3)\n",
    "    \n",
    "(x_1s, x_2, x_3s, x_1i, x_3i, w_3) = (np.array(x) for x in (x_1s, x_2, x_3s, x_1i, x_3i, w_3))"
   ]
  },
  {
   "cell_type": "markdown",
   "metadata": {},
   "source": [
    "# Plot $x_1(x_2)$ & $x_3(x_2)$\n",
    "## Simplex"
   ]
  },
  {
   "cell_type": "code",
   "execution_count": 13,
   "metadata": {},
   "outputs": [
    {
     "data": {
      "image/png": "[encoded data removed]",
      "text/plain": [
       "<Figure size 432x288 with 1 Axes>"
      ]
     },
     "metadata": {
      "needs_background": "light"
     },
     "output_type": "display_data"
    }
   ],
   "source": [
    "line1, = plt.plot(x_2, x_1s, label='$x_1$')\n",
    "line2, = plt.plot(x_2, x_3s, label='$x_3$')\n",
    "plt.legend(handles=[line1, line2], loc='lower right')\n",
    "plt.title('Simplex solutions')\n",
    "plt.xlabel('$x_2$')\n",
    "plt.savefig('simplex.png')\n",
    "plt.show()\n",
    "plt.close()"
   ]
  },
  {
   "cell_type": "code",
   "execution_count": 14,
   "metadata": {},
   "outputs": [
    {
     "data": {
      "image/png": "[encoded data removed]",
      "text/plain": [
       "<Figure size 432x288 with 1 Axes>"
      ]
     },
     "metadata": {
      "needs_background": "light"
     },
     "output_type": "display_data"
    }
   ],
   "source": [
    "line1, = plt.plot(x_2, x_1i, label='$x_1$')\n",
    "line2, = plt.plot(x_2, x_3i, label='$x_3$')\n",
    "plt.legend(handles=[line1, line2], loc='lower right')\n",
    "plt.title('Interior point solutions')\n",
    "plt.xlabel('$x_2$')\n",
    "plt.savefig('interior_point.png')\n",
    "plt.show()\n",
    "plt.close()"
   ]
  },
  {
   "cell_type": "markdown",
   "metadata": {},
   "source": [
    "## Plot both"
   ]
  },
  {
   "cell_type": "code",
   "execution_count": 16,
   "metadata": {},
   "outputs": [
    {
     "data": {
      "image/png": "[encoded data removed]",
      "text/plain": [
       "<Figure size 432x288 with 1 Axes>"
      ]
     },
     "metadata": {
      "needs_background": "light"
     },
     "output_type": "display_data"
    }
   ],
   "source": [
    "line1, = plt.plot(x_2, x_1s, label='$x_1$ simplex')\n",
    "line2, = plt.plot(x_2, x_3s, label='$x_3$ simplex')\n",
    "line3, = plt.plot(x_2, x_1i, label='$x_1$ interior point')\n",
    "line4, = plt.plot(x_2, x_3i, label='$x_3$ interior point')\n",
    "plt.legend(handles=[line1, line2, line3, line4], loc='upper right')\n",
    "plt.title('All solutions')\n",
    "plt.xlabel('$x_2$')\n",
    "plt.savefig('all.png')\n",
    "plt.show()\n",
    "plt.close()"
   ]
  }
 ],
 "metadata": {
  "kernelspec": {
   "display_name": "Python 3",
   "language": "python",
   "name": "python3"
  },
  "language_info": {
   "codemirror_mode": {
    "name": "ipython",
    "version": 3
   },
   "file_extension": ".py",
   "mimetype": "text/x-python",
   "name": "python",
   "nbconvert_exporter": "python",
   "pygments_lexer": "ipython3",
   "version": "3.8.3"
  }
 },
 "nbformat": 4,
 "nbformat_minor": 4
}
